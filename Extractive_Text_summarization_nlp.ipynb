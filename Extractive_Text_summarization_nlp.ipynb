{
  "nbformat": 4,
  "nbformat_minor": 0,
  "metadata": {
    "colab": {
      "provenance": []
    },
    "kernelspec": {
      "name": "python3",
      "display_name": "Python 3"
    },
    "language_info": {
      "name": "python"
    }
  },
  "cells": [
    {
      "cell_type": "code",
      "execution_count": null,
      "metadata": {
        "id": "HRbVRJ3UT7_n"
      },
      "outputs": [],
      "source": [
        "# Extractive Text Summarization is like using a highlighter while reading a book.\n",
        "# Like we mostly do while reading we highlight the ones we feel its important. And that's how extractive summarization works.\n",
        "# Takes the main sentences from the list of sentences and forms a summary."
      ]
    },
    {
      "cell_type": "code",
      "source": [
        "! pip install sumy"
      ],
      "metadata": {
        "colab": {
          "base_uri": "https://localhost:8080/"
        },
        "id": "3wKwRonsaLsz",
        "outputId": "25daab9b-6698-4521-f224-6f6bc06707d3"
      },
      "execution_count": 1,
      "outputs": [
        {
          "output_type": "stream",
          "name": "stdout",
          "text": [
            "Collecting sumy\n",
            "  Downloading sumy-0.11.0-py2.py3-none-any.whl (97 kB)\n",
            "\u001b[2K     \u001b[90m━━━━━━━━━━━━━━━━━━━━━━━━━━━━━━━━━━━━━━━━\u001b[0m \u001b[32m97.3/97.3 kB\u001b[0m \u001b[31m916.0 kB/s\u001b[0m eta \u001b[36m0:00:00\u001b[0m\n",
            "\u001b[?25hCollecting docopt<0.7,>=0.6.1 (from sumy)\n",
            "  Downloading docopt-0.6.2.tar.gz (25 kB)\n",
            "  Preparing metadata (setup.py) ... \u001b[?25l\u001b[?25hdone\n",
            "Collecting breadability>=0.1.20 (from sumy)\n",
            "  Downloading breadability-0.1.20.tar.gz (32 kB)\n",
            "  Preparing metadata (setup.py) ... \u001b[?25l\u001b[?25hdone\n",
            "Requirement already satisfied: requests>=2.7.0 in /usr/local/lib/python3.10/dist-packages (from sumy) (2.31.0)\n",
            "Collecting pycountry>=18.2.23 (from sumy)\n",
            "  Downloading pycountry-24.6.1-py3-none-any.whl (6.3 MB)\n",
            "\u001b[2K     \u001b[90m━━━━━━━━━━━━━━━━━━━━━━━━━━━━━━━━━━━━━━━━\u001b[0m \u001b[32m6.3/6.3 MB\u001b[0m \u001b[31m28.9 MB/s\u001b[0m eta \u001b[36m0:00:00\u001b[0m\n",
            "\u001b[?25hRequirement already satisfied: nltk>=3.0.2 in /usr/local/lib/python3.10/dist-packages (from sumy) (3.8.1)\n",
            "Requirement already satisfied: chardet in /usr/local/lib/python3.10/dist-packages (from breadability>=0.1.20->sumy) (5.2.0)\n",
            "Requirement already satisfied: lxml>=2.0 in /usr/local/lib/python3.10/dist-packages (from breadability>=0.1.20->sumy) (4.9.4)\n",
            "Requirement already satisfied: click in /usr/local/lib/python3.10/dist-packages (from nltk>=3.0.2->sumy) (8.1.7)\n",
            "Requirement already satisfied: joblib in /usr/local/lib/python3.10/dist-packages (from nltk>=3.0.2->sumy) (1.4.2)\n",
            "Requirement already satisfied: regex>=2021.8.3 in /usr/local/lib/python3.10/dist-packages (from nltk>=3.0.2->sumy) (2024.5.15)\n",
            "Requirement already satisfied: tqdm in /usr/local/lib/python3.10/dist-packages (from nltk>=3.0.2->sumy) (4.66.4)\n",
            "Requirement already satisfied: charset-normalizer<4,>=2 in /usr/local/lib/python3.10/dist-packages (from requests>=2.7.0->sumy) (3.3.2)\n",
            "Requirement already satisfied: idna<4,>=2.5 in /usr/local/lib/python3.10/dist-packages (from requests>=2.7.0->sumy) (3.7)\n",
            "Requirement already satisfied: urllib3<3,>=1.21.1 in /usr/local/lib/python3.10/dist-packages (from requests>=2.7.0->sumy) (2.0.7)\n",
            "Requirement already satisfied: certifi>=2017.4.17 in /usr/local/lib/python3.10/dist-packages (from requests>=2.7.0->sumy) (2024.6.2)\n",
            "Building wheels for collected packages: breadability, docopt\n",
            "  Building wheel for breadability (setup.py) ... \u001b[?25l\u001b[?25hdone\n",
            "  Created wheel for breadability: filename=breadability-0.1.20-py2.py3-none-any.whl size=21693 sha256=f308f70fe7b2c6c030290a1b32ab73ab57eca0b9143b271862e6aaf7d5e079cd\n",
            "  Stored in directory: /root/.cache/pip/wheels/64/22/90/b84fcc30e16598db20a0d41340616dbf9b1e82bbcc627b0b33\n",
            "  Building wheel for docopt (setup.py) ... \u001b[?25l\u001b[?25hdone\n",
            "  Created wheel for docopt: filename=docopt-0.6.2-py2.py3-none-any.whl size=13706 sha256=ee4720f713920b81a501d94fe7a423f40129d50277b9f0fc55bb03ccf3abe709\n",
            "  Stored in directory: /root/.cache/pip/wheels/fc/ab/d4/5da2067ac95b36618c629a5f93f809425700506f72c9732fac\n",
            "Successfully built breadability docopt\n",
            "Installing collected packages: docopt, pycountry, breadability, sumy\n",
            "Successfully installed breadability-0.1.20 docopt-0.6.2 pycountry-24.6.1 sumy-0.11.0\n"
          ]
        }
      ]
    },
    {
      "cell_type": "code",
      "source": [
        "! pip install nltk\n",
        "import nltk\n",
        "nltk.download('punkt')"
      ],
      "metadata": {
        "colab": {
          "base_uri": "https://localhost:8080/"
        },
        "id": "aph8GH0EaQMv",
        "outputId": "1c806aa9-d200-41eb-c626-519d27222385"
      },
      "execution_count": 2,
      "outputs": [
        {
          "output_type": "stream",
          "name": "stdout",
          "text": [
            "Requirement already satisfied: nltk in /usr/local/lib/python3.10/dist-packages (3.8.1)\n",
            "Requirement already satisfied: click in /usr/local/lib/python3.10/dist-packages (from nltk) (8.1.7)\n",
            "Requirement already satisfied: joblib in /usr/local/lib/python3.10/dist-packages (from nltk) (1.4.2)\n",
            "Requirement already satisfied: regex>=2021.8.3 in /usr/local/lib/python3.10/dist-packages (from nltk) (2024.5.15)\n",
            "Requirement already satisfied: tqdm in /usr/local/lib/python3.10/dist-packages (from nltk) (4.66.4)\n"
          ]
        },
        {
          "output_type": "stream",
          "name": "stderr",
          "text": [
            "[nltk_data] Downloading package punkt to /root/nltk_data...\n",
            "[nltk_data]   Unzipping tokenizers/punkt.zip.\n"
          ]
        },
        {
          "output_type": "execute_result",
          "data": {
            "text/plain": [
              "True"
            ]
          },
          "metadata": {},
          "execution_count": 2
        }
      ]
    },
    {
      "cell_type": "code",
      "source": [
        "from sumy.summarizers import luhn\n",
        "from sumy.utils import get_stop_words\n",
        "from sumy.nlp.stemmers import Stemmer\n",
        "from sumy.summarizers.luhn import LuhnSummarizer\n",
        "from sumy.parsers.plaintext import PlaintextParser\n",
        "from sumy.nlp.tokenizers import Tokenizer as sumytoken\n",
        "from sumy.summarizers.lex_rank import LexRankSummarizer\n",
        "from sumy.summarizers.lsa import LsaSummarizer as Summarizer"
      ],
      "metadata": {
        "id": "ezKG-CYZaTId"
      },
      "execution_count": 3,
      "outputs": []
    },
    {
      "cell_type": "code",
      "source": [
        "LANGUAGE = \"english\"\n",
        "SENTENCES_COUNT = 1"
      ],
      "metadata": {
        "id": "F5eudrTNaWew"
      },
      "execution_count": 4,
      "outputs": []
    },
    {
      "cell_type": "code",
      "source": [
        "text = '''By the nineteenth century, economists categorised three separate factors that cause a rise or fall in the price of goods:\n",
        "a change in the value or production costs of the good, a change in the price of money which then was usually a fluctuation in the\n",
        "commodity price of the metallic content in the currency, and currency depreciation resulting from an increased supply of currency\n",
        "relative to the quantity of redeemable metal backing the currency. Following the proliferation of private banknote currency printed\n",
        " during the American Civil War, the term \"inflation\" started to appear as a direct reference to the currency depreciation that\n",
        " occurred as the quantity of redeemable banknotes outstripped the quantity of metal available for their redemption. At that time, the\n",
        " term inflation referred to the devaluation of the currency, and not to a rise in the price of goods.[15] This relationship between the\n",
        "  over-supply of banknotes and a resulting depreciation in their value was noted by earlier classical economists such as David Hume and\n",
        "  David Ricardo, who would go on to examine and debate what effect a currency devaluation has on the price of goods.[16]'''\n"
      ],
      "metadata": {
        "id": "6E65JuDzaaEi"
      },
      "execution_count": 5,
      "outputs": []
    },
    {
      "cell_type": "code",
      "source": [
        "parser = PlaintextParser.from_string((text), sumytoken(LANGUAGE))\n",
        "stemmer = Stemmer(LANGUAGE)"
      ],
      "metadata": {
        "id": "ZouPzZKjayC1"
      },
      "execution_count": 6,
      "outputs": []
    },
    {
      "cell_type": "code",
      "source": [
        "def lexrank_summarizer():\n",
        "    print (\"\\n\",\"%\"*25, \"LEXRANK SUMARIZER\", \"%\"*25)\n",
        "    summarizer_LexRank = LexRankSummarizer(stemmer)\n",
        "    summarizer_LexRank.stop_words = get_stop_words(LANGUAGE)\n",
        "    for sentence in summarizer_LexRank(parser.document, SENTENCES_COUNT):\n",
        "        print (sentence)\n",
        "\n",
        "def lsa_summarizer():\n",
        "    print (\"\\n\",\"%\"*25, \"LSA SUMARIZER\", \"%\"*25)\n",
        "    summarizer_lsa = Summarizer(stemmer)\n",
        "    summarizer_lsa.stop_words = get_stop_words(LANGUAGE)\n",
        "    for sentence in summarizer_lsa(parser.document, SENTENCES_COUNT):\n",
        "        print (sentence)\n",
        "\n",
        "def luhn_summarizer():\n",
        "    print (\"\\n\",\"%\"*25, \"LUHN SUMMARIZER\", \"%\"*25)\n",
        "    summarizer_luhn = LuhnSummarizer(stemmer)\n",
        "    summarizer_luhn.stop_words = get_stop_words(LANGUAGE)\n",
        "    for sentence in summarizer_luhn(parser.document, SENTENCES_COUNT):\n",
        "       print (sentence)"
      ],
      "metadata": {
        "id": "tMs-6wfYbCEx"
      },
      "execution_count": 7,
      "outputs": []
    },
    {
      "cell_type": "code",
      "source": [
        "lexrank_summarizer()\n",
        "lsa_summarizer()\n",
        "luhn_summarizer()\n"
      ],
      "metadata": {
        "colab": {
          "base_uri": "https://localhost:8080/"
        },
        "id": "K5uU344ubGvR",
        "outputId": "3c352576-ce45-4d1c-e6c5-1c088c238dd3"
      },
      "execution_count": 8,
      "outputs": [
        {
          "output_type": "stream",
          "name": "stdout",
          "text": [
            "\n",
            " %%%%%%%%%%%%%%%%%%%%%%%%% LEXRANK SUMARIZER %%%%%%%%%%%%%%%%%%%%%%%%%\n",
            "By the nineteenth century, economists categorised three separate factors that cause a rise or fall in the price of goods: a change in the value or production costs of the good, a change in the price of money which then was usually a fluctuation in the commodity price of the metallic content in the currency, and currency depreciation resulting from an increased supply of currency relative to the quantity of redeemable metal backing the currency.\n",
            "\n",
            " %%%%%%%%%%%%%%%%%%%%%%%%% LSA SUMARIZER %%%%%%%%%%%%%%%%%%%%%%%%%\n",
            "Following the proliferation of private banknote currency printed during the American Civil War, the term \"inflation\" started to appear as a direct reference to the currency depreciation that occurred as the quantity of redeemable banknotes outstripped the quantity of metal available for their redemption.\n",
            "\n",
            " %%%%%%%%%%%%%%%%%%%%%%%%% LUHN SUMMARIZER %%%%%%%%%%%%%%%%%%%%%%%%%\n",
            "By the nineteenth century, economists categorised three separate factors that cause a rise or fall in the price of goods: a change in the value or production costs of the good, a change in the price of money which then was usually a fluctuation in the commodity price of the metallic content in the currency, and currency depreciation resulting from an increased supply of currency relative to the quantity of redeemable metal backing the currency.\n"
          ]
        }
      ]
    }
  ]
}