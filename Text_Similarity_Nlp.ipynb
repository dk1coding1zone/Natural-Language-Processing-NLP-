{
  "nbformat": 4,
  "nbformat_minor": 0,
  "metadata": {
    "colab": {
      "provenance": []
    },
    "kernelspec": {
      "name": "python3",
      "display_name": "Python 3"
    },
    "language_info": {
      "name": "python"
    }
  },
  "cells": [
    {
      "cell_type": "code",
      "execution_count": null,
      "metadata": {
        "id": "WYoWwuMcxHnk"
      },
      "outputs": [],
      "source": [
        "# Cosine Similarity – Text Similarity Metric"
      ]
    },
    {
      "cell_type": "code",
      "source": [
        "# Text Similarity has to determine how the two text documents close to each other in terms of their context or meaning.\n",
        "\n",
        "# The Cosine similarity of two documents will range from 0 to 1. If the Cosine similarity score is 1, it means two vectors\n",
        "# have the same orientation. The value closer to 0 indicates that the two documents have less similarity.\n",
        "\n",
        "# cos(theta) = similarity(A,B)= A⋅B/∥A∥∥B∥"
      ],
      "metadata": {
        "id": "oTTc6dQhycu_"
      },
      "execution_count": null,
      "outputs": []
    },
    {
      "cell_type": "code",
      "source": [
        "from sklearn.feature_extraction.text import CountVectorizer\n",
        "from sklearn.metrics.pairwise import cosine_similarity\n",
        "\n",
        "# Step 1: Convert text to lower case\n",
        "doc_1 = \"Data is the oil of the digital economy\".lower()\n",
        "doc_2 = \"Data is a new oil\".lower()\n",
        "\n",
        "# Step 2: Tokenize and vectorize using CountVectorizer\n",
        "vectorizer = CountVectorizer()\n",
        "vectors = vectorizer.fit_transform([doc_1, doc_2])\n",
        "\n",
        "# Step 3: Calculate cosine similarity\n",
        "cosine_sim = cosine_similarity(vectors[0], vectors[1])\n",
        "\n",
        "# Output the cosine similarity\n",
        "print(\"Cosine Similarity:\", cosine_sim[0][0])\n"
      ],
      "metadata": {
        "colab": {
          "base_uri": "https://localhost:8080/"
        },
        "id": "ED7ZTeVR90K2",
        "outputId": "3445a887-3bae-4a79-b877-ca9b6a2ac709"
      },
      "execution_count": null,
      "outputs": [
        {
          "output_type": "stream",
          "name": "stdout",
          "text": [
            "Cosine Similarity: 0.4743416490252569\n"
          ]
        }
      ]
    },
    {
      "cell_type": "code",
      "source": [
        "from sklearn.feature_extraction.text import CountVectorizer\n",
        "from sklearn.metrics.pairwise import cosine_similarity\n",
        "\n",
        "# Step 1: Convert text to lower case (optional if CountVectorizer is case-insensitive)\n",
        "docs = [\n",
        "    \"Data is the oil of the digital economy\",\n",
        "    \"Data is a new oil\",\n",
        "    \"Big data is transforming business\",\n",
        "    \"The new oil in the digital economy is data\"\n",
        "]\n",
        "\n",
        "# Convert documents to lowercase\n",
        "docs = [doc.lower() for doc in docs]\n",
        "\n",
        "# Step 2: Tokenize and vectorize using CountVectorizer\n",
        "vectorizer = CountVectorizer()\n",
        "vectors = vectorizer.fit_transform(docs)\n",
        "# overview of unique tokens\n",
        "feature_names = vectorizer.get_feature_names_out()\n",
        "print(\"Feature Names (Unique Words):\", feature_names)\n",
        "#overview of bag of words\n",
        "print(\"\\nBag-of-Words Matrix:\")\n",
        "print(vectors.toarray())\n",
        "\n",
        "# Step 3: Calculate cosine similarity\n",
        "cosine_sim_matrix = cosine_similarity(vectors)\n",
        "\n",
        "# Output the cosine similarity matrix\n",
        "print(\"Cosine Similarity Matrix:\\n\", cosine_sim_matrix)\n"
      ],
      "metadata": {
        "colab": {
          "base_uri": "https://localhost:8080/"
        },
        "id": "3f4jc2ecyneh",
        "outputId": "bbcf011c-a2bc-4197-f913-02c60007f7b4"
      },
      "execution_count": null,
      "outputs": [
        {
          "output_type": "stream",
          "name": "stdout",
          "text": [
            "Feature Names (Unique Words): ['big' 'business' 'data' 'digital' 'economy' 'in' 'is' 'new' 'of' 'oil'\n",
            " 'the' 'transforming']\n",
            "\n",
            "Bag-of-Words Matrix:\n",
            "[[0 0 1 1 1 0 1 0 1 1 2 0]\n",
            " [0 0 1 0 0 0 1 1 0 1 0 0]\n",
            " [1 1 1 0 0 0 1 0 0 0 0 1]\n",
            " [0 0 1 1 1 1 1 1 0 1 2 0]]\n",
            "Cosine Similarity Matrix:\n",
            " [[1.         0.47434165 0.28284271 0.85811633]\n",
            " [0.47434165 1.         0.4472136  0.60302269]\n",
            " [0.28284271 0.4472136  1.         0.26967994]\n",
            " [0.85811633 0.60302269 0.26967994 1.        ]]\n"
          ]
        }
      ]
    },
    {
      "cell_type": "code",
      "source": [
        "# Semantic Similarity"
      ],
      "metadata": {
        "id": "d8ctAhQf_OJ1"
      },
      "execution_count": null,
      "outputs": []
    },
    {
      "cell_type": "code",
      "source": [
        "# Dimensionality reduction techniques like TruncatedSVD (Singular Value Decomposition) can\n",
        "#  help capture underlying semantic relationships in the text by reducing the number of features\n",
        "# (dimensions) while preserving the most important information. This process is often used to improve the performance of\n",
        "# similarity measures by focusing on the most significant components."
      ],
      "metadata": {
        "id": "j_bnQpeu_oNm"
      },
      "execution_count": null,
      "outputs": []
    },
    {
      "cell_type": "code",
      "source": [
        "from sklearn.feature_extraction.text import TfidfVectorizer\n",
        "from sklearn.decomposition import TruncatedSVD\n",
        "from sklearn.metrics.pairwise import cosine_similarity\n",
        "\n",
        "# Step 1: Convert text to lower case (optional if CountVectorizer is case-insensitive)\n",
        "docs = [\n",
        "    \"Data is the oil of the digital economy\",\n",
        "    \"Data is a new oil\",\n",
        "    \"Big data is transforming business\",\n",
        "    \"The new oil in the digital economy is data\"\n",
        "]\n",
        "\n",
        "# Convert documents to lowercase\n",
        "docs = [doc.lower() for doc in docs]\n",
        "\n",
        "# Step 2: Tokenize and vectorize using TfidfVectorizer\n",
        "vectorizer = TfidfVectorizer()\n",
        "tfidf_vectors = vectorizer.fit_transform(docs)\n",
        "\n",
        "# Step 3: Dimensionality reduction using TruncatedSVD (optional but helps in capturing semantic relationships)\n",
        "svd = TruncatedSVD(n_components=2)\n",
        "reduced_vectors = svd.fit_transform(tfidf_vectors)\n",
        "\n",
        "# Step 4: Calculate cosine similarity\n",
        "cosine_sim_matrix = cosine_similarity(reduced_vectors)\n",
        "\n",
        "# Output the cosine similarity matrix\n",
        "print(\"Cosine Similarity Matrix:\\n\", cosine_sim_matrix)\n"
      ],
      "metadata": {
        "colab": {
          "base_uri": "https://localhost:8080/"
        },
        "id": "MszDxZnr_RoH",
        "outputId": "e0987328-bdd4-4d00-8ad6-b22997db0acb"
      },
      "execution_count": null,
      "outputs": [
        {
          "output_type": "stream",
          "name": "stdout",
          "text": [
            "Cosine Similarity Matrix:\n",
            " [[1.         0.79242453 0.02266794 0.99745732]\n",
            " [0.79242453 1.         0.62777587 0.83387996]\n",
            " [0.02266794 0.62777587 1.         0.0938583 ]\n",
            " [0.99745732 0.83387996 0.0938583  1.        ]]\n"
          ]
        }
      ]
    },
    {
      "cell_type": "code",
      "source": [
        "# Document 1 and Document 2 have a high similarity score of 0.97324292, indicating that they share similar semantic content.\n",
        "# Document 3 and Document 4 have a lower similarity score of 0.77645213, indicating that they are less similar compared to other pairs."
      ],
      "metadata": {
        "id": "fR-9zXfBAQoZ"
      },
      "execution_count": null,
      "outputs": []
    }
  ]
}