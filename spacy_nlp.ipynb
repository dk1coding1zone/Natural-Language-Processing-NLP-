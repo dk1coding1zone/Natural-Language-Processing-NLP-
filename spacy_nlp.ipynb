{
  "nbformat": 4,
  "nbformat_minor": 0,
  "metadata": {
    "colab": {
      "provenance": []
    },
    "kernelspec": {
      "name": "python3",
      "display_name": "Python 3"
    },
    "language_info": {
      "name": "python"
    }
  },
  "cells": [
    {
      "cell_type": "code",
      "source": [
        "# IMPORT SPACY\n",
        "\n",
        "# The default model which is english-core-web, for which we load the “en_core_web_sm” model."
      ],
      "metadata": {
        "id": "YPPV2R14RSwk"
      },
      "execution_count": null,
      "outputs": []
    },
    {
      "cell_type": "code",
      "source": [
        "import spacy\n",
        "nlp = spacy.load(\"en_core_web_sm\")"
      ],
      "metadata": {
        "id": "K0-UPFnBRVuZ"
      },
      "execution_count": null,
      "outputs": []
    },
    {
      "cell_type": "code",
      "source": [
        "# WORD TOKENIZE\n",
        "\n",
        "# Tokenize words to get the tokens of the text i.e breaking the sentences into words."
      ],
      "metadata": {
        "id": "HUUAo8SNRcKs"
      },
      "execution_count": null,
      "outputs": []
    },
    {
      "cell_type": "code",
      "source": [
        "text = \"\"\"Most of the outlay will be at home. No surprise there, either. While Samsung has expanded overseas, South Korea is still host to most of its factories and research engineers. \"\"\"\n",
        "doc = nlp(text)\n",
        "print(doc)\n",
        "\n",
        "words = [token.text for token in doc]\n",
        "\n",
        "print (words)"
      ],
      "metadata": {
        "colab": {
          "base_uri": "https://localhost:8080/"
        },
        "id": "hmvZGUqQSqDP",
        "outputId": "64d61710-90b2-49b0-a8c8-7b747b18244d"
      },
      "execution_count": null,
      "outputs": [
        {
          "output_type": "stream",
          "name": "stdout",
          "text": [
            "Most of the outlay will be at home. No surprise there, either. While Samsung has expanded overseas, South Korea is still host to most of its factories and research engineers. \n",
            "['Most', 'of', 'the', 'outlay', 'will', 'be', 'at', 'home', '.', 'No', 'surprise', 'there', ',', 'either', '.', 'While', 'Samsung', 'has', 'expanded', 'overseas', ',', 'South', 'Korea', 'is', 'still', 'host', 'to', 'most', 'of', 'its', 'factories', 'and', 'research', 'engineers', '.']\n"
          ]
        }
      ]
    },
    {
      "cell_type": "code",
      "source": [
        "# SENTENCE TOKENIZE\n",
        "\n",
        "# Tokenize sentences if the there are more than 1 sentence i.e breaking the sentences to list of sentence."
      ],
      "metadata": {
        "id": "a3VYkjl4S1_s"
      },
      "execution_count": null,
      "outputs": []
    },
    {
      "cell_type": "code",
      "source": [
        "list(doc.sents)"
      ],
      "metadata": {
        "colab": {
          "base_uri": "https://localhost:8080/"
        },
        "id": "2D4XuW4ITmZr",
        "outputId": "f30fd8aa-1d37-46f7-8348-f1ed778d5e61"
      },
      "execution_count": null,
      "outputs": [
        {
          "output_type": "execute_result",
          "data": {
            "text/plain": [
              "[Most of the outlay will be at home.,\n",
              " No surprise there, either.,\n",
              " While Samsung has expanded overseas, South Korea is still host to most of its factories and research engineers.]"
            ]
          },
          "metadata": {},
          "execution_count": 13
        }
      ]
    },
    {
      "cell_type": "code",
      "source": [
        "# STOP WORDS REMOVAL\n",
        "# Remove irrelevant words using nltk stop words like is,the,a etc\n",
        "# from the sentences as they don’t carry any information."
      ],
      "metadata": {
        "id": "V5RQgVFjXdUw"
      },
      "execution_count": null,
      "outputs": []
    },
    {
      "cell_type": "code",
      "source": [
        "words = [token.text for token in doc if token.is_stop != True and token.is_punct != True]\n",
        "print (words)"
      ],
      "metadata": {
        "colab": {
          "base_uri": "https://localhost:8080/"
        },
        "id": "8OI2jjnVTtxb",
        "outputId": "e5d22648-d8d9-4f66-fe29-22f08fba5808"
      },
      "execution_count": null,
      "outputs": [
        {
          "output_type": "stream",
          "name": "stdout",
          "text": [
            "['outlay', 'home', 'surprise', 'Samsung', 'expanded', 'overseas', 'South', 'Korea', 'host', 'factories', 'research', 'engineers']\n"
          ]
        }
      ]
    },
    {
      "cell_type": "code",
      "source": [
        "# Lemma\n",
        "\n",
        "# lemmatize the text so as to get its root form eg: functions,funtionality as function"
      ],
      "metadata": {
        "id": "MeVf7_LdYCj4"
      },
      "execution_count": null,
      "outputs": []
    },
    {
      "cell_type": "code",
      "source": [
        "for token in doc:\n",
        "    print(token,\"-->\", token.lemma_)"
      ],
      "metadata": {
        "colab": {
          "base_uri": "https://localhost:8080/"
        },
        "id": "j5E22FySYEux",
        "outputId": "61338680-d9fa-44ad-a9b1-9f67e30ec80b"
      },
      "execution_count": null,
      "outputs": [
        {
          "output_type": "stream",
          "name": "stdout",
          "text": [
            "Most --> Most\n",
            "of --> of\n",
            "the --> the\n",
            "outlay --> outlay\n",
            "will --> will\n",
            "be --> be\n",
            "at --> at\n",
            "home --> home\n",
            ". --> .\n",
            "No --> no\n",
            "surprise --> surprise\n",
            "there --> there\n",
            ", --> ,\n",
            "either --> either\n",
            ". --> .\n",
            "While --> while\n",
            "Samsung --> Samsung\n",
            "has --> have\n",
            "expanded --> expand\n",
            "overseas --> overseas\n",
            ", --> ,\n",
            "South --> South\n",
            "Korea --> Korea\n",
            "is --> be\n",
            "still --> still\n",
            "host --> host\n",
            "to --> to\n",
            "most --> most\n",
            "of --> of\n",
            "its --> its\n",
            "factories --> factory\n",
            "and --> and\n",
            "research --> research\n",
            "engineers --> engineer\n",
            ". --> .\n"
          ]
        }
      ]
    },
    {
      "cell_type": "code",
      "source": [
        "# Get word frequency\n",
        "# counting the word occurrence using FreqDist library. Word frequency helps us to determine how important the word is in the document\n",
        "#  by knowing how many times the word is being used."
      ],
      "metadata": {
        "id": "nwwOmQ0GYWfg"
      },
      "execution_count": null,
      "outputs": []
    },
    {
      "cell_type": "code",
      "source": [
        "from collections import Counter"
      ],
      "metadata": {
        "id": "dORDpOsPYxzJ"
      },
      "execution_count": null,
      "outputs": []
    },
    {
      "cell_type": "code",
      "source": [
        "word_freq = Counter(words)\n",
        "common_words = word_freq.most_common(5)\n",
        "print (common_words)"
      ],
      "metadata": {
        "colab": {
          "base_uri": "https://localhost:8080/"
        },
        "id": "tt_bcXU_YeX-",
        "outputId": "9ed509f0-afe5-4547-95c0-b63a5a11d966"
      },
      "execution_count": null,
      "outputs": [
        {
          "output_type": "stream",
          "name": "stdout",
          "text": [
            "[('outlay', 1), ('home', 1), ('surprise', 1), ('Samsung', 1), ('expanded', 1)]\n"
          ]
        }
      ]
    },
    {
      "cell_type": "code",
      "source": [
        "# POS tags\n",
        "\n",
        "# POS tag helps us to know the tags of each word like whether a word is noun, adjective etc"
      ],
      "metadata": {
        "id": "3XFWIC5vY6Ai"
      },
      "execution_count": null,
      "outputs": []
    },
    {
      "cell_type": "code",
      "source": [
        "for w in doc:\n",
        "    print (w,\"-->\",w.pos_)"
      ],
      "metadata": {
        "colab": {
          "base_uri": "https://localhost:8080/"
        },
        "id": "PfikV4EMY8VA",
        "outputId": "a54f10f4-efc1-4cfb-dc5b-5872f2e5e873"
      },
      "execution_count": null,
      "outputs": [
        {
          "output_type": "stream",
          "name": "stdout",
          "text": [
            "Most --> ADJ\n",
            "of --> ADP\n",
            "the --> DET\n",
            "outlay --> NOUN\n",
            "will --> AUX\n",
            "be --> AUX\n",
            "at --> ADP\n",
            "home --> NOUN\n",
            ". --> PUNCT\n",
            "No --> DET\n",
            "surprise --> NOUN\n",
            "there --> ADV\n",
            ", --> PUNCT\n",
            "either --> ADV\n",
            ". --> PUNCT\n",
            "While --> SCONJ\n",
            "Samsung --> PROPN\n",
            "has --> AUX\n",
            "expanded --> VERB\n",
            "overseas --> ADV\n",
            ", --> PUNCT\n",
            "South --> PROPN\n",
            "Korea --> PROPN\n",
            "is --> AUX\n",
            "still --> ADV\n",
            "host --> NOUN\n",
            "to --> ADP\n",
            "most --> ADJ\n",
            "of --> ADP\n",
            "its --> PRON\n",
            "factories --> NOUN\n",
            "and --> CCONJ\n",
            "research --> NOUN\n",
            "engineers --> NOUN\n",
            ". --> PUNCT\n"
          ]
        }
      ]
    }
  ]
}